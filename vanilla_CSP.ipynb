{
 "cells": [
  {
   "cell_type": "code",
   "execution_count": 13,
   "id": "e52f6a09",
   "metadata": {},
   "outputs": [],
   "source": [
    "import sys\n",
    "import copy"
   ]
  },
  {
   "cell_type": "code",
   "execution_count": 14,
   "id": "a756e7fb",
   "metadata": {},
   "outputs": [],
   "source": [
    "# Open the file and read the data\n",
    "with open(\"input1.txt\", \"r\") as f:\n",
    "    data = f.readlines()\n",
    "# Create the variables\n",
    "neighbours = {}\n",
    "variables = {}\n",
    "\n",
    "# Process each line of data\n",
    "for line in data:\n",
    "    if line.startswith('#') or line.strip() == \"\":\n",
    "        continue\n",
    "    elif line.startswith('c'):\n",
    "        colors = int(''.join(filter(str.isdigit, line)))\n",
    "        continue\n",
    "    # Split the line into two nodes\n",
    "    node1, node2 = map(int, line.strip().split(\",\"))\n",
    "    # Update the neighbours\n",
    "    if node1 not in neighbours:\n",
    "        neighbours[node1] = []\n",
    "    neighbours[node1].append(node2)\n",
    "    if node2 not in neighbours:\n",
    "        neighbours[node2] = []\n",
    "    neighbours[node2].append(node1)\n",
    "    # Update the variables\n",
    "    if node1 not in variables:\n",
    "        variables[node1] = [None, list(range(1, colors+1))]\n",
    "    if node2 not in variables:\n",
    "        variables[node2] = [None, list(range(1, colors+1))]"
   ]
  },
  {
   "cell_type": "code",
   "execution_count": 15,
   "id": "d2dd4411",
   "metadata": {},
   "outputs": [],
   "source": [
    "# Class definition of a state\n",
    "class color:\n",
    "    def __init__(self, curr, assigned, variables):\n",
    "        self.curr = curr\n",
    "        self.assigned = assigned\n",
    "        self.variables = variables\n",
    "    \n",
    "    # Create a function to print the variables with their values\n",
    "    def printvar(self):\n",
    "        for var in self.variables:\n",
    "            print(var,\"has color\", self.variables[var][0])\n",
    "\n",
    "# Find common elements between 2 lists\n",
    "def intersection(a,b):\n",
    "    a_set = set(a)\n",
    "    b_set = set(b)\n",
    "    # check length\n",
    "    if len(a_set.intersection(b_set)) > 0:\n",
    "        return(list(a_set.intersection(b_set)))\n",
    "    else:\n",
    "        return []\n",
    "    \n",
    "def backtrack_search(state):\n",
    "    common = intersection(neighbours[state.curr],state.assigned)\n",
    "    possible_values = []\n",
    "    #Values chosen here\n",
    "    # For every domain value check if it is not present in every variable that is already assigned \n",
    "    for domain_val in state.variables[state.curr][1]:\n",
    "        isAssign = True\n",
    "        \n",
    "        for assigned_var in common:\n",
    "            if domain_val == state.variables[assigned_var][0]:\n",
    "                isAssign = False\n",
    "                \n",
    "\n",
    "        if isAssign == True:\n",
    "            possible_values.append(domain_val)\n",
    "            state.variables[state.curr][0] = domain_val\n",
    "            state.variables[state.curr][1].remove(domain_val)\n",
    "            state.assigned.append(state.curr)\n",
    "            break\n",
    "        \n",
    "    if len(state.assigned) == len(neighbours):\n",
    "        state.printvar()\n",
    "        sys.exit(\"Solution Found\")\n",
    "    \n",
    "    if state.variables[state.curr][0] == None:\n",
    "        print(\"Returning to previous state\")\n",
    "        return\n",
    "        \n",
    "    else:\n",
    "        #Variables Chosen here\n",
    "#         print(set(neighbours[state.curr]).difference(state.assigned))\n",
    "        for var in set(neighbours[state.curr]).difference(state.assigned):\n",
    "            backtrack_search(color(copy.deepcopy(var),copy.deepcopy(state.assigned),copy.deepcopy(state.variables)))      "
   ]
  },
  {
   "cell_type": "code",
   "execution_count": 16,
   "id": "9eb33348",
   "metadata": {},
   "outputs": [
    {
     "name": "stdout",
     "output_type": "stream",
     "text": [
      "1 has color 1\n",
      "2 has color 2\n",
      "3 has color 3\n",
      "4 has color 3\n",
      "5 has color 2\n",
      "6 has color 1\n",
      "7 has color 4\n"
     ]
    },
    {
     "ename": "SystemExit",
     "evalue": "Solution Found",
     "output_type": "error",
     "traceback": [
      "An exception has occurred, use %tb to see the full traceback.\n",
      "\u001b[1;31mSystemExit\u001b[0m\u001b[1;31m:\u001b[0m Solution Found\n"
     ]
    }
   ],
   "source": [
    "curr_state = color(1,[],copy.deepcopy(variables))\n",
    "backtrack_search(curr_state)"
   ]
  }
 ],
 "metadata": {
  "kernelspec": {
   "display_name": "Python 3 (ipykernel)",
   "language": "python",
   "name": "python3"
  },
  "language_info": {
   "codemirror_mode": {
    "name": "ipython",
    "version": 3
   },
   "file_extension": ".py",
   "mimetype": "text/x-python",
   "name": "python",
   "nbconvert_exporter": "python",
   "pygments_lexer": "ipython3",
   "version": "3.9.7"
  }
 },
 "nbformat": 4,
 "nbformat_minor": 5
}
